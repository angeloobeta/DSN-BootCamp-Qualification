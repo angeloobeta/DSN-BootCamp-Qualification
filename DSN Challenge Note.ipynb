{
 "cells": [
  {
   "cell_type": "markdown",
   "metadata": {},
   "source": [
    "<h3>Problem Statement</h3>\n",
    "<p>Kowope Mart is a Nigerian-based retail company with a vision to provide quality goods, education and automobile services to its customers at affordable price and reduce if not eradicate charges on card payments and increase customer satisfaction with credit rewards that can be used within the Mall. To achieve this, the company has partnered with DSBank on co-branded credit card with additional functionality such that customers can request for loan, pay for goods even with zero-balance and then pay back within an agreed period of time. This innovative strategy has increased sales for the company. However, there has been recent cases of credit defaults and Kowope Mart will like to have a system that profiles customers who are worthy of the card with minimum if not zero risk of defaulting.</p>\n",
    "\n",
    "<h4>Objective</h4> To predict customers who are likely to default or not.\n",
    "<h4>Evauation Metric</h4> Area under the ROC Curve(AUC) "
   ]
  },
  {
   "cell_type": "markdown",
   "metadata": {},
   "source": [
    "<h3>Variable Definitions</h3>\n",
    "<ul>\n",
    "    <li> Application_ID: Unique Customer Application Identification number </li>\n",
    "\n",
    "<strong>Risk Scoring features:</strong>\n",
    "    <li>form_field1: Customer Creditworthiness score based on historical data</li>\n",
    "    <li>form_field2: A score that measures the number and riskiness of credit enquiries made by a borrower.</li>\n",
    "    \n",
    "<strong>Severity features:</strong> Severity is a function of amount, time since default, and number of defaults\n",
    "    <li>form_field3: Severity of default by the borrower on any loan(s).</li>\n",
    "    <li>form_field4: Severity of default by the borrower on auto loan(s).</li>\n",
    "    <li>form_field5: Severity of default by the borrower on education loan(s).</li>\n",
    "\n",
    "<strong>Credit features</strong>\n",
    "\n",
    "   <li>form_field6: Minimum of credit available on all credit cards that is automatically renewed as debts are paid off on the\n",
    "    customer’s cards (in NGN)</li>\n",
    "    <li>form_field7: Maximum of credit available on customer’s active credit lines (in NGN)</li>\n",
    "    <li>form_field8: Maximum of credit available on all active credit cards that is automatically renewed as debts are paid off\n",
    "    on the customer’s cards (in NGN)</li>\n",
    "    <li>form_field9: Sum of available credit on credit cards that the borrower has missed 1 payment (in NGN)</li>\n",
    "    <li>form_field10: Total amount of credit available on accepted credit lines (in NGN)\n",
    "    <li>form_field11: The amount of dues collected post-default where the due amount was more than 500 (in NGN)</li>\n",
    "    <li>form_field12: Sum of the amount due on active credit cards (in NGN)</li>\n",
    "    <li>form_field13: Annual amount paid towards all credit cards during the previous year (in NGN)</li>\n",
    "    <li>form_field14: Annual income (in NGN)</li>\n",
    "    <li>form_field15: The estimated market value of a property owned/used by the borrower (in NGN)</li>\n",
    "\n",
    "<strong>Credit card features:</strong>\n",
    "    <li>form_field16: Number of active credit card that is automatically renewed as debts are paid off on which full credit\n",
    "    limit is utilized by the borrower</li>\n",
    "    <li>form_field17: Number of active credit cards on which full credit limit is utilized by the borrower</li>\n",
    "    <li>form_field18: Number of active credit lines on which full credit limit is utilized by the borrower</li>\n",
    "    <li>form_field19: Number of active credit cards on which at least 75% credit limit is utilized by the borrower</li>\n",
    "    <li>form_field20: Number of active credit lines on which at least 75% credit limit is utilized by the borrower</li>\n",
    "    <li>form_field21: Average utilization of active revolving credit card loans (%)</li>\n",
    "    <li>form_field22: Average utilization of line on all active credit lines activated in last 2 years (%)</li>\n",
    "    <li>form_field23: Average utilization of line on all active credit cards activated in last 1 year (%)</li>\n",
    "    <li>form_field24: Average utilization of line on credit cards on which the borrower has missed 1 payment during the last 6 months (%)</li>\n",
    "    <li>form_field25: Average tenure of active revolving credit cards (in days)</li>\n",
    "    <li>form_field26: Tenure of oldest credit card among all active credit cards (in days)</li>\n",
    "    <li>form_field27: Tenure of oldest revolving credit card among all active revolving credit cards (in days)</li>\n",
    "\n",
    "<strong>Time-related features</strong>\n",
    "    <li>form_field28: Number of days since last missed payment on any credit line</li>\n",
    "    <li>form_field29: Tenure of the oldest credit line (in days)</li>\n",
    "    form_field30: Maximum tenure on all auto loans (in days)</li>\n",
    "    <li>form_field31: Maximum tenure on all education loans (in days)</li>\n",
    "    <li>form_field32: Sum of tenures (in months) of active credit cards</li>\n",
    "    <li>form_field33: Sum of tenures (in months) of active credit cards</li>\n",
    "    <li>form_field34: Number of active credit lines over the last 6 months on which the borrower has missed 1 payment</li>\n",
    "    <li>form_field35: Number of revolving credit cards over the last 2 years on which the borrower has missed 1 payment</li>\n",
    "    <li>form_field36: Number of active credit lines</li>\n",
    "    <li>form_field37: Number of credit cards with an active tenure of at least 2 years</li>\n",
    "    <li>form_field38: Number of credit lines activated in the last 2 years</li>\n",
    "    <li>form_field39: Number of credit lines on which the borrower has current delinquency</li>\n",
    "\n",
    "<strong>Percentage related features</strong>\n",
    "    <li>form_field40: Utilization of line on active education loans (%)</li>\n",
    "    <li>form_field41: Utilization of line on active auto loans (%)</li>\n",
    "\n",
    "<strong>Other features</strong>\n",
    "    <li>form_field42: Financial stress index of the borrower. This index is a function of collection trades, bankruptcies files, tax liens invoked, etc.</li>\n",
    "    <li>form_field43: Number of credit lines on which the borrower has never missed a payment in the last 2 years, yet considered as high-risk loans based on the market prediction of the economic scenario</li>\n",
    "    <li>form_field44: Ratio of the maximum amount due on all active credit lines and the sum of amounts due on all active credit lines</li>\n",
    "    <li>form_field45: Number of mortgage loans on which the borrower has missed 2 payments</li>\n",
    "    <li>form_field46: Number of auto loans on which the borrower has missed 2 payments</li>\n",
    "    <li>form_field47: Type of product that the applicant applied for. (C = Charge; L = Lending)</li>\n",
    "    <li>form_field48: Undefined Variable</li>\n",
    "    <li>form_field49: Undefined Variable</li>\n",
    "    <li>form_field50: Ratio of the minimum amount due on all active credit lines and the sum of amounts due on all active credit lines</li>\n",
    "\n",
    "<strong>Target features</strong>\n",
    "    <li>default_status: defaulted or not. (yes:1, no: 0)</li>\n",
    "</ul>"
   ]
  },
  {
   "cell_type": "code",
   "execution_count": 176,
   "metadata": {},
   "outputs": [],
   "source": [
    "import os, warnings, gc\n",
    "warnings.filterwarnings('ignore')"
   ]
  },
  {
   "cell_type": "code",
   "execution_count": 177,
   "metadata": {},
   "outputs": [],
   "source": [
    "import pandas as pd\n",
    "import numpy as np\n",
    "import seaborn as sns\n",
    "import matplotlib.pyplot as plt\n",
    "import scipy.stats as stats\n",
    "import missingno as msno"
   ]
  },
  {
   "cell_type": "code",
   "execution_count": 178,
   "metadata": {},
   "outputs": [],
   "source": [
    "%matplotlib inline\n",
    "pd.set_option('display.max_columns', 100)\n",
    "plt.style.use('fivethirtyeight')\n",
    "plt.rcParams['font.size'] = 10"
   ]
  },
  {
   "cell_type": "code",
   "execution_count": 179,
   "metadata": {},
   "outputs": [],
   "source": [
    "from sklearn.linear_model import LogisticRegression\n",
    "from sklearn.preprocessing import StandardScaler\n",
    "from sklearn.model_selection import train_test_split\n",
    "from sklearn.pipeline import Pipeline\n",
    "from sklearn.inspection import permutation_importance\n",
    "from sklearn.metrics import plot_confusion_matrix, plot_roc_curve, roc_auc_score, auc, classification_report"
   ]
  },
  {
   "cell_type": "code",
   "execution_count": 206,
   "metadata": {},
   "outputs": [],
   "source": [
    "import random\n",
    "seed = 4092\n",
    "# seed = 2046\n",
    "random.seed(seed)\n",
    "np.random.seed(seed)"
   ]
  },
  {
   "cell_type": "code",
   "execution_count": 181,
   "metadata": {},
   "outputs": [],
   "source": [
    "# os.chdir(\"/home/is_ifeanyichukwu/Documents/DSN Competition/DSN_Bootcamp_QualificationChallenge\")"
   ]
  },
  {
   "cell_type": "code",
   "execution_count": 182,
   "metadata": {},
   "outputs": [],
   "source": [
    "path = \"~/Documents/DSN Competition/DSN_Bootcamp_QualificationChallenge\""
   ]
  },
  {
   "cell_type": "code",
   "execution_count": 183,
   "metadata": {},
   "outputs": [],
   "source": [
    "#importing files\n",
    "train  = pd.read_csv(path+'/Train.csv')\n",
    "test = pd.read_csv(path+'/Test.csv')\n",
    "subfile = pd.read_csv(path+'/SampleSubmission.csv')"
   ]
  },
  {
   "cell_type": "code",
   "execution_count": 184,
   "metadata": {},
   "outputs": [],
   "source": [
    "# train.head()"
   ]
  },
  {
   "cell_type": "code",
   "execution_count": 185,
   "metadata": {},
   "outputs": [],
   "source": [
    "# test.head()"
   ]
  },
  {
   "cell_type": "code",
   "execution_count": 186,
   "metadata": {},
   "outputs": [
    {
     "data": {
      "text/plain": [
       "((56000, 52), (24000, 51))"
      ]
     },
     "execution_count": 186,
     "metadata": {},
     "output_type": "execute_result"
    }
   ],
   "source": [
    "#shape of data\n",
    "train.shape, test.shape"
   ]
  },
  {
   "cell_type": "code",
   "execution_count": 187,
   "metadata": {
    "scrolled": true
   },
   "outputs": [],
   "source": [
    "# train.describe()"
   ]
  },
  {
   "cell_type": "code",
   "execution_count": 188,
   "metadata": {},
   "outputs": [],
   "source": [
    "# test.describe()"
   ]
  },
  {
   "cell_type": "markdown",
   "metadata": {},
   "source": [
    "#### Checking nunique values"
   ]
  },
  {
   "cell_type": "code",
   "execution_count": 189,
   "metadata": {},
   "outputs": [],
   "source": [
    "# train.nunique().sort_values()"
   ]
  },
  {
   "cell_type": "markdown",
   "metadata": {},
   "source": [
    "#### Checking for missing values"
   ]
  },
  {
   "cell_type": "code",
   "execution_count": 190,
   "metadata": {
    "scrolled": true
   },
   "outputs": [],
   "source": [
    "# ax = train.isna().sum().transform(lambda x:x/train.shape[0]).sort_values().plot.barh(\n",
    "#     figsize=(11,11), title='Percentage missing values (Train)', color='indigo', alpha=0.5)\n",
    "# for i in ax.patches:\n",
    "#     ax.text(i.get_width()+0.005, i.get_y(), str(int(round(i.get_width(),2)*100))+'%', fontsize=10, color='b', alpha=0.7);"
   ]
  },
  {
   "cell_type": "markdown",
   "metadata": {},
   "source": [
    "From the Bar chart, there's a lot of missing values in the train data\n",
    "\n",
    "Lets take a look at the test data"
   ]
  },
  {
   "cell_type": "code",
   "execution_count": 191,
   "metadata": {},
   "outputs": [],
   "source": [
    "# ax1 = test.isna().sum().transform(lambda x:x/test.shape[0]).sort_values().plot.barh(\n",
    "#     figsize=(11,11), title='Percentage missing values (Test)', color='coral', alpha=0.6)\n",
    "# for i in ax1.patches:\n",
    "#     ax1.text(i.get_width()+0.005, i.get_y(), \n",
    "#              str(int(round(i.get_width(),2)*100))+'%', fontsize=10, color='blue');"
   ]
  },
  {
   "cell_type": "markdown",
   "metadata": {},
   "source": [
    "Both the train and test data have a lot of missing values. We will see how to handle them.\n",
    "\n",
    " form_field40 has the most, with almost 80% missing, followed by form_field31 and then form_field41."
   ]
  },
  {
   "cell_type": "markdown",
   "metadata": {},
   "source": [
    "#### Target Distribution"
   ]
  },
  {
   "cell_type": "code",
   "execution_count": 192,
   "metadata": {},
   "outputs": [],
   "source": [
    "# ax = sns.countplot('default_status', data=train,color='coral')\n",
    "# plt.xticks(range(2), ['No', 'Yes'], fontsize=13)\n",
    "# plt.title('Target Distribution')\n",
    "\n",
    "# for i in ax.patches:\n",
    "#     ax.text(i.get_x()+ 0.28, i.get_height()+ 3, \n",
    "#             str(round(i.get_height()/train.shape[0] * 100,2))+'%', \n",
    "#             fontsize=13);"
   ]
  },
  {
   "cell_type": "markdown",
   "metadata": {},
   "source": [
    "As we can see, the data is imbalanced. Hence, we may try to solve the issue of imbalanced datasets. About 74% of the data is for churn No, while 24% for Churn Yes"
   ]
  },
  {
   "cell_type": "code",
   "execution_count": 193,
   "metadata": {},
   "outputs": [],
   "source": [
    "#Label Encoding target\n",
    "train.default_status.replace({'no':0, 'yes':1}, inplace=True)"
   ]
  },
  {
   "cell_type": "code",
   "execution_count": 194,
   "metadata": {},
   "outputs": [],
   "source": [
    "def model_auc(model):\n",
    "    train_auc = roc_auc_score(y_train, model.predict_proba(x_train)[:, 1])\n",
    "    val_auc = roc_auc_score(y_val, model.predict_proba(x_val)[:, 1])\n",
    "    print(f'Train AUC: {train_auc}, Val Auc: {val_auc}')"
   ]
  },
  {
   "cell_type": "code",
   "execution_count": 195,
   "metadata": {},
   "outputs": [],
   "source": [
    "# def plot_figure(model):\n",
    "#     fig, ax = plt.subplots(1,2, figsize=(10,5))\n",
    "#     plot_confusion_matrix(model, x_val, y_val, ax=ax[0], display_labels=['No', 'Yes'])\n",
    "#     plot_roc_curve(model, x_val, y_val, ax=ax[1])\n",
    "#     ax[0].set(title='Confusion Matrix')\n",
    "#     ax[1].set(title='ROC Curve')\n",
    "#     ax[0].grid(False)\n",
    "#     ax[1].grid(False)\n",
    "#     ax[1].legend(loc='center right')\n",
    "#     plt.tight_layout(pad=1.0)"
   ]
  },
  {
   "cell_type": "markdown",
   "metadata": {},
   "source": [
    "#### Filling Missing Values with zeros"
   ]
  },
  {
   "cell_type": "code",
   "execution_count": 196,
   "metadata": {},
   "outputs": [],
   "source": [
    "train.fillna(0, inplace=True)\n",
    "test.fillna(0, inplace=True)"
   ]
  },
  {
   "cell_type": "code",
   "execution_count": 148,
   "metadata": {},
   "outputs": [],
   "source": [
    "corr= train.corr()\n",
    "mask = np.zeros_like(corr)\n",
    "mask[np.triu_indices_from(mask)] = True"
   ]
  },
  {
   "cell_type": "code",
   "execution_count": 197,
   "metadata": {},
   "outputs": [],
   "source": [
    "# plt.figure(figsize=(15,13))\n",
    "# sns.heatmap(corr, mask=mask)\n",
    "# plt.title('Correlation Matrix');"
   ]
  },
  {
   "cell_type": "markdown",
   "metadata": {},
   "source": [
    "#### Baseline Model"
   ]
  },
  {
   "cell_type": "code",
   "execution_count": 198,
   "metadata": {},
   "outputs": [],
   "source": [
    "test_id = test.Applicant_ID"
   ]
  },
  {
   "cell_type": "code",
   "execution_count": 199,
   "metadata": {},
   "outputs": [],
   "source": [
    "features = train.columns.drop(['Applicant_ID', 'default_status'])\n",
    "X = pd.get_dummies(train[features])\n",
    "y = train.default_status\n",
    "test = pd.get_dummies(test[features])"
   ]
  },
  {
   "cell_type": "code",
   "execution_count": 217,
   "metadata": {},
   "outputs": [],
   "source": [
    "x_train, x_val, y_train, y_val = train_test_split(X, y, random_state=seed, test_size=0.2, stratify=y)"
   ]
  },
  {
   "cell_type": "code",
   "execution_count": 218,
   "metadata": {},
   "outputs": [
    {
     "data": {
      "text/plain": [
       "((50400, 51), (5600, 51))"
      ]
     },
     "execution_count": 218,
     "metadata": {},
     "output_type": "execute_result"
    }
   ],
   "source": [
    "x_train.shape, x_val.shape"
   ]
  },
  {
   "cell_type": "code",
   "execution_count": 227,
   "metadata": {},
   "outputs": [],
   "source": [
    "scaler = StandardScaler()"
   ]
  },
  {
   "cell_type": "code",
   "execution_count": 229,
   "metadata": {},
   "outputs": [],
   "source": [
    "logreg = LogisticRegression(random_state=seed)\n",
    "logreg_pl = Pipeline([('scaler', scaler), ('logreg', logreg)])"
   ]
  },
  {
   "cell_type": "code",
   "execution_count": 230,
   "metadata": {},
   "outputs": [
    {
     "data": {
      "text/plain": [
       "Pipeline(steps=[('scaler', StandardScaler()),\n",
       "                ('logreg', LogisticRegression(random_state=4092))])"
      ]
     },
     "execution_count": 230,
     "metadata": {},
     "output_type": "execute_result"
    }
   ],
   "source": [
    "logreg_pl.fit(x_train, y_train)"
   ]
  },
  {
   "cell_type": "code",
   "execution_count": 231,
   "metadata": {},
   "outputs": [
    {
     "name": "stdout",
     "output_type": "stream",
     "text": [
      "Train AUC: 0.8278967297025593, Val Auc: 0.8265753517746504\n"
     ]
    }
   ],
   "source": [
    "model_auc(logreg_pl)"
   ]
  },
  {
   "cell_type": "code",
   "execution_count": 133,
   "metadata": {},
   "outputs": [],
   "source": [
    "# plot_figure(logreg_pl)"
   ]
  },
  {
   "cell_type": "code",
   "execution_count": 132,
   "metadata": {},
   "outputs": [],
   "source": [
    "# print(classification_report(y_val, logreg_pl.predict(x_val)))"
   ]
  },
  {
   "cell_type": "markdown",
   "metadata": {},
   "source": [
    "#### Submission"
   ]
  },
  {
   "cell_type": "code",
   "execution_count": 128,
   "metadata": {},
   "outputs": [],
   "source": [
    "test_predictions = logreg_pl.predict_proba(test)[:, 1]"
   ]
  },
  {
   "cell_type": "code",
   "execution_count": 129,
   "metadata": {},
   "outputs": [],
   "source": [
    "submission = pd.DataFrame({'Applicant_ID' : test_id, 'default_status' : test_predictions})"
   ]
  },
  {
   "cell_type": "code",
   "execution_count": 130,
   "metadata": {},
   "outputs": [],
   "source": [
    "submission.to_csv(path+'/Logreg_baseline.csv', index=False)"
   ]
  }
 ],
 "metadata": {
  "kernelspec": {
   "display_name": "Python 3",
   "language": "python",
   "name": "python3"
  },
  "language_info": {
   "codemirror_mode": {
    "name": "ipython",
    "version": 3
   },
   "file_extension": ".py",
   "mimetype": "text/x-python",
   "name": "python",
   "nbconvert_exporter": "python",
   "pygments_lexer": "ipython3",
   "version": "3.8.2"
  }
 },
 "nbformat": 4,
 "nbformat_minor": 2
}
